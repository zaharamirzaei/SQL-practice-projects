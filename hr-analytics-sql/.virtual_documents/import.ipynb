import pandas as pd
import sqlite3
import seaborn as sns
import matplotlib.pyplot as plt


df = pd.read_csv("HR_comma_sep.csv")
df.head()


conn = sqlite3.connect("hr.db")
df.to_sql("employees", conn, if_exists="replace", index=False)
pd.read_sql_query("SELECT * FROM employees LIMIT 5", conn)


query = open("queries/09_avg_satisfaction_by_department.sql").read()
df_result = pd.read_sql_query(query, conn)
df_result


query = open("queries/10_left_by_department.sql").read()
df_result = pd.read_sql_query(query, conn)
df_result


query = open("queries/11_salary_distribution.sql").read()
df_result = pd.read_sql_query(query, conn)
df_result


query = open("queries/01_high_salary_employees.sql").read()
df_result = pd.read_sql_query(query, conn)
df_result


plt.figure(figsize=(8,5))
sns.histplot(df["satisfaction_level"], kde=True, bins=20, color='green')
plt.title("Distribution of Satisfaction Level (High Salary Employees)")
plt.xlabel("Satisfaction Level")
plt.ylabel("Count")
plt.tight_layout()
plt.show()


query = open("queries/02_total_employees_stayed.sql").read()
df_result = pd.read_sql_query(query, conn)
df_result


query = open("queries/03_average_monthly_hours.sql").read()
df_result = pd.read_sql_query(query, conn)
df_result



query = open("queries/04_average_evaluation.sql").read()
df_result = pd.read_sql_query(query, conn)
df_result



query = open("queries/05_work_accidents_by_department.sql").read()
df_result = pd.read_sql_query(query, conn)
df_result


query = open("queries/06_promotion_rate_by_department.sql").read()
df_result = pd.read_sql_query(query, conn)
df_result


query = open("queries/07_low_salary_left_rate.sql").read()
df_result = pd.read_sql_query(query, conn)
df_result


query = open("queries/08_saticfaction_rate_left_stayed_by_dep.sql").read()
df_result = pd.read_sql_query(query, conn)
df_result



query = open("queries/12_left_rate_by_workload.sql").read()
df_result = pd.read_sql_query(query, conn)
df_result



